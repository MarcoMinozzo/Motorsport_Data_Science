{
 "cells": [
  {
   "cell_type": "markdown",
   "metadata": {},
   "source": [
    "# Cálculos de Aceleração Lateral com Cambagem Diferente Entre as Rodas\n",
    "\n",
    "Vamos calcular a aceleração lateral considerando diferentes ângulos de cambagem nas rodas do HB20 de competição da Copa HB20. Desta vez, incluindo o **raio da curva** e a **velocidade longitudinal** do veículo, que influenciam diretamente a aceleração lateral.\n",
    "\n",
    "## 1. Aceleração Lateral\n",
    "A aceleração lateral pode ser calculada pela fórmula:\n",
    "\n",
    "$$ a_L = \\frac{v^2}{r} $$\n",
    "\n",
    "Onde:\n",
    "- $v$ é a velocidade do veículo (m/s);\n",
    "- $r$ é o raio da curva (m)."
   ]
  },
  {
   "cell_type": "markdown",
   "metadata": {},
   "source": [
    "## 2. Força Lateral Individual por Roda\n",
    "\n",
    "Para cada roda, a força lateral $F_{L_i}$ é dada por:\n",
    "\n",
    "$$ F_{L_i} = \\mu \\cdot F_{z_i} \\cdot f(\\alpha_i) $$\n",
    "\n",
    "Onde:\n",
    "- $F_{L_i}$ é a força lateral na roda $i$;\n",
    "- $\\mu$ é o coeficiente de atrito;\n",
    "- $F_{z_i}$ é a força normal (vertical) na roda $i$;\n",
    "- $f(\\alpha_i)$ é a função do ângulo de cambagem da roda $i$."
   ]
  },
  {
   "cell_type": "markdown",
   "metadata": {},
   "source": [
    "## 3. Função da Cambagem\n",
    "\n",
    "A função $f(\\alpha_i)$ pode ser simplificada como:\n",
    "\n",
    "$$ f(\\alpha_i) = 1 + k \\cdot \\alpha_i $$\n",
    "\n",
    "Onde $k$ é um fator empírico (por exemplo, $k \\approx 0.05$ por grau de cambagem) e $\\alpha_i$ é o ângulo de cambagem da roda $i$."
   ]
  },
  {
   "cell_type": "markdown",
   "metadata": {},
   "source": [
    "## 4. Distribuição de Carga Dinâmica\n",
    "\n",
    "A carga vertical em cada roda muda durante a curva devido à transferência de peso, o que gera uma **transferência de carga lateral**.\n",
    "\n",
    "### O que é a Transferência de Carga Lateral?\n",
    "Durante curvas, a força centrífuga faz com que o peso do veículo seja transferido das rodas internas para as rodas externas. Esta transferência depende da altura do centro de gravidade, da aceleração lateral e da largura entre as rodas (bitola).\n",
    "\n",
    "No HB20 de competição, essa transferência de carga pode ser modelada da seguinte forma:\n",
    "\n",
    "- **Rodas Externas:**\n",
    "\n",
    "$$ F_{z\\_externo} = \\frac{m \\cdot g}{4} + \\Delta F_z $$\n",
    "\n",
    "- **Rodas Internas:**\n",
    "\n",
    "$$ F_{z\\_interno} = \\frac{m \\cdot g}{4} - \\Delta F_z $$\n",
    "\n",
    "Onde:\n",
    "- $m$ é a massa do veículo (1040 kg para o HB20 de competição);\n",
    "- $g$ é a aceleração da gravidade (9.81 m/s²);\n",
    "- $\\Delta F_z = \\frac{m \\cdot a_L \\cdot h}{2 \\cdot w}$ é a transferência de carga lateral;\n",
    "- $a_L$ é a aceleração lateral calculada com a velocidade e o raio da curva;\n",
    "- $h$ é a altura do centro de gravidade (0.55 m no HB20);\n",
    "- $w$ é a largura entre as rodas (bitola), que no HB20 é de 1.47 m."
   ]
  },
  {
   "cell_type": "markdown",
   "metadata": {},
   "source": [
    "## 5. Cálculo da Aceleração Lateral Máxima\n",
    "\n",
    "A aceleração lateral máxima é a soma das forças laterais das quatro rodas:\n",
    "\n",
    "$$ m \\cdot a_{L\\_max} = \\sum_{i=1}^{4} F_{L_i} $$\n",
    "\n",
    "Substituindo:\n",
    "\n",
    "$$ m \\cdot a_{L\\_max} = \\mu \\cdot \\left( F_{z1} \\cdot f(\\alpha_1) + F_{z2} \\cdot f(\\alpha_2) + F_{z3} \\cdot f(\\alpha_3) + F_{z4} \\cdot f(\\alpha_4) \\right) $$"
   ]
  },
  {
   "cell_type": "markdown",
   "metadata": {},
   "source": [
    "## 6. Exemplo Numérico com Dados do HB20 de Competição\n",
    "\n",
    "### Dados:\n",
    "- Massa do carro: $1040\\, kg$;\n",
    "- Altura do centro de gravidade: $0.55\\, m$;\n",
    "- Largura entre rodas (bitola): $1.47\\, m$;\n",
    "- Coeficiente de atrito: $1.0$;\n",
    "- Fator de cambagem: $k = -0.0175\\, \\text{por grau}$;\n",
    "- Velocidade longitudinal: $30\\, m/s$;\n",
    "- Raio da curva: $50\\, m$;\n",
    "- Cambagens:\n",
    "  - Roda dianteira esquerda: $-2^\\circ$;\n",
    "  - Roda dianteira direita: $-3^\\circ$;\n",
    "  - Roda traseira esquerda: $-1^\\circ$;\n",
    "  - Roda traseira direita: $-2^\\circ$."
   ]
  },
  {
   "cell_type": "markdown",
   "metadata": {},
   "source": [
    "### Cálculos:\n",
    "\n",
    "1. **Cálculo da aceleração lateral:**\n",
    "\n",
    "$$\n",
    "a_L = \\frac{30^2}{50} = 18 \\, m/s^2\n",
    "$$\n",
    "\n",
    "\n",
    "2. **Funções de cambagem:**\n",
    "   - $f(\\alpha_1) = 1.035$\n",
    "   - $f(\\alpha_2) = 1.0525$\n",
    "   - $f(\\alpha_3) = 1.0175$\n",
    "   - $f(\\alpha_4) = 1.035$\n",
    "\n",
    "\n",
    "3. **Transferência de carga lateral:**\n",
    "$$\n",
    "\\Delta F_z = \\frac{1040 \\cdot 18 \\cdot 0.55}{2 \\cdot 1.47} = 3495.74 \\, N\n",
    "$$\n",
    "\n",
    "\n",
    "4. **Força normal por roda:**\n",
    "   - $F_{z\\_externo} = \\frac{1040 \\cdot 9.81}{4} + 3495.74 = 2551.74 + 3495.74 = 6047.48\\, N$\n",
    "   - $F_{z\\_interno} = \\frac{1040 \\cdot 9.81}{4} - 3495.74 = 2551.74 - 3495.74 = -944\\, N$\n",
    "\n",
    "\n",
    "5. **Força lateral para cada roda:**\n",
    "   - Roda 1: $F_{L1} = 6047.48 \\cdot 1.035 = 6259.14 \\, N$\n",
    "   - Roda 2: $F_{L2} = (-944) \\cdot 1.0525 = -993.76 \\, N$\n",
    "   - Roda 3: $F_{L3} = 6047.48 \\cdot 1.0175 = 6153.29 \\, N$\n",
    "   - Roda 4: $F_{L4} = (-944) \\cdot 1.035 = -977.04 \\, N$\n",
    "\n",
    "\n",
    "6. **Somando as forças laterais:**\n",
    "$$\n",
    "\\text{Total} = 6259.14 - 993.76 + 6153.29 - 977.04 = 10441.63 \\, N\n",
    "$$\n",
    "\n",
    "\n",
    "7. **Equacionando para $a_{L\\_max}$:**\n",
    "$$\n",
    "1040a_L = 10441.63\n",
    "$$\n",
    "\n",
    "$$\n",
    "a_L = \\frac{10441.63}{1040} \\approx 10.04 \\, m/s^2 \\approx 1.02 \\, g\n",
    "$$\n"
   ]
  },
  {
   "cell_type": "markdown",
   "metadata": {},
   "source": [
    "## 7. Conclusão\n",
    "\n",
    "Com cambagens diferentes entre as rodas e considerando a velocidade longitudinal de $30\\, m/s$ e o raio da curva de $50\\, m$, o cálculo resulta em uma aceleração lateral máxima de aproximadamente **1.02 g**."
   ]
  }
 ],
 "metadata": {
  "kernelspec": {
   "display_name": "Python 3",
   "language": "python",
   "name": "python3"
  },
  "language_info": {
   "name": "python"
  }
 },
 "nbformat": 4,
 "nbformat_minor": 2
}
